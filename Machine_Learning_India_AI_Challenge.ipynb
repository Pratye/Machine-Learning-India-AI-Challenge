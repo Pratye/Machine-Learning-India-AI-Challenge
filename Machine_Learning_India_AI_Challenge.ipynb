{
  "nbformat": 4,
  "nbformat_minor": 0,
  "metadata": {
    "kernelspec": {
      "display_name": "Python 3",
      "language": "python",
      "name": "python3"
    },
    "language_info": {
      "codemirror_mode": {
        "name": "ipython",
        "version": 3
      },
      "file_extension": ".py",
      "mimetype": "text/x-python",
      "name": "python",
      "nbconvert_exporter": "python",
      "pygments_lexer": "ipython3",
      "version": "3.7.6"
    },
    "colab": {
      "name": "Machine Learning India AI Challenge",
      "provenance": [],
      "collapsed_sections": [],
      "include_colab_link": true
    },
    "accelerator": "TPU"
  },
  "cells": [
    {
      "cell_type": "markdown",
      "metadata": {
        "id": "view-in-github",
        "colab_type": "text"
      },
      "source": [
        "<a href=\"https://colab.research.google.com/github/Pratye/Machine-Learning-India-AI-Challenge/blob/main/Machine_Learning_India_AI_Challenge.ipynb\" target=\"_parent\"><img src=\"https://colab.research.google.com/assets/colab-badge.svg\" alt=\"Open In Colab\"/></a>"
      ]
    },
    {
      "cell_type": "code",
      "metadata": {
        "colab": {
          "base_uri": "https://localhost:8080/"
        },
        "id": "4_u413EmuEqQ",
        "outputId": "e750779e-970d-47e1-e455-e3c049f12791"
      },
      "source": [
        "from google.colab import drive\n",
        "drive.mount('/content/drive')"
      ],
      "execution_count": null,
      "outputs": [
        {
          "output_type": "stream",
          "text": [
            "Drive already mounted at /content/drive; to attempt to forcibly remount, call drive.mount(\"/content/drive\", force_remount=True).\n"
          ],
          "name": "stdout"
        }
      ]
    },
    {
      "cell_type": "markdown",
      "metadata": {
        "id": "iFLKd41LEwKr"
      },
      "source": [
        "## Importing Libraries"
      ]
    },
    {
      "cell_type": "code",
      "metadata": {
        "id": "x8Fwu2X5kqUW"
      },
      "source": [
        "import tensorflow as tf\n",
        "from tensorflow import keras\n",
        "import pandas as pd\n",
        "from keras.models import Sequential\n",
        "from keras.layers import Dense\n",
        "from keras.wrappers.scikit_learn import KerasClassifier\n",
        "from keras.utils import np_utils\n",
        "from sklearn.model_selection import cross_val_score\n",
        "from sklearn.model_selection import KFold\n",
        "from sklearn.preprocessing import LabelEncoder\n",
        "from sklearn.pipeline import Pipeline\n",
        "\n",
        "from sklearn.ensemble import RandomForestClassifier, AdaBoostClassifier\n",
        "from sklearn.ensemble import GradientBoostingClassifier, ExtraTreesClassifier, VotingClassifier\n",
        "from sklearn.discriminant_analysis import LinearDiscriminantAnalysis\n",
        "from sklearn.linear_model import LogisticRegression\n",
        "from sklearn.neighbors import KNeighborsClassifier\n",
        "from sklearn.tree import DecisionTreeClassifier\n",
        "from sklearn.neural_network import MLPClassifier\n",
        "from sklearn.svm import SVC\n",
        "from sklearn.model_selection import GridSearchCV, cross_val_score, StratifiedKFold, learning_curve"
      ],
      "execution_count": null,
      "outputs": []
    },
    {
      "cell_type": "markdown",
      "metadata": {
        "id": "JF9-R3AeE66D"
      },
      "source": [
        "## Loading and Augmentation of Dataset"
      ]
    },
    {
      "cell_type": "code",
      "metadata": {
        "id": "tWKg8ZXgkqUf",
        "colab": {
          "base_uri": "https://localhost:8080/",
          "height": 224
        },
        "outputId": "8599a623-de0c-485c-bf41-3ac3eb4cc1c4"
      },
      "source": [
        "df=pd.read_csv(\"/content/drive/MyDrive/machine_learning_india_ai_challenge-dataset/TRAIN.csv\")\n",
        "df.head()"
      ],
      "execution_count": null,
      "outputs": [
        {
          "output_type": "execute_result",
          "data": {
            "text/html": [
              "<div>\n",
              "<style scoped>\n",
              "    .dataframe tbody tr th:only-of-type {\n",
              "        vertical-align: middle;\n",
              "    }\n",
              "\n",
              "    .dataframe tbody tr th {\n",
              "        vertical-align: top;\n",
              "    }\n",
              "\n",
              "    .dataframe thead th {\n",
              "        text-align: right;\n",
              "    }\n",
              "</style>\n",
              "<table border=\"1\" class=\"dataframe\">\n",
              "  <thead>\n",
              "    <tr style=\"text-align: right;\">\n",
              "      <th></th>\n",
              "      <th>Index</th>\n",
              "      <th>V1</th>\n",
              "      <th>V2</th>\n",
              "      <th>V3</th>\n",
              "      <th>V4</th>\n",
              "      <th>V5</th>\n",
              "      <th>V6</th>\n",
              "      <th>V7</th>\n",
              "      <th>V8</th>\n",
              "      <th>V9</th>\n",
              "      <th>V10</th>\n",
              "      <th>V11</th>\n",
              "      <th>V12</th>\n",
              "      <th>V13</th>\n",
              "      <th>V14</th>\n",
              "      <th>V15</th>\n",
              "      <th>V16</th>\n",
              "      <th>V17</th>\n",
              "      <th>V18</th>\n",
              "      <th>V19</th>\n",
              "      <th>V20</th>\n",
              "      <th>V21</th>\n",
              "      <th>V22</th>\n",
              "      <th>V23</th>\n",
              "      <th>V24</th>\n",
              "      <th>V25</th>\n",
              "      <th>V26</th>\n",
              "      <th>V27</th>\n",
              "      <th>V28</th>\n",
              "      <th>Amount</th>\n",
              "      <th>Class</th>\n",
              "    </tr>\n",
              "  </thead>\n",
              "  <tbody>\n",
              "    <tr>\n",
              "      <th>0</th>\n",
              "      <td>0</td>\n",
              "      <td>2.245295</td>\n",
              "      <td>-1.160960</td>\n",
              "      <td>-1.966682</td>\n",
              "      <td>-1.430190</td>\n",
              "      <td>-0.607246</td>\n",
              "      <td>-1.508696</td>\n",
              "      <td>-0.074415</td>\n",
              "      <td>-0.655096</td>\n",
              "      <td>-1.970141</td>\n",
              "      <td>1.607283</td>\n",
              "      <td>-0.780267</td>\n",
              "      <td>-0.294928</td>\n",
              "      <td>1.236719</td>\n",
              "      <td>-0.135565</td>\n",
              "      <td>-0.832677</td>\n",
              "      <td>-1.400205</td>\n",
              "      <td>0.807960</td>\n",
              "      <td>-0.670317</td>\n",
              "      <td>-0.044106</td>\n",
              "      <td>-0.292081</td>\n",
              "      <td>0.010490</td>\n",
              "      <td>0.521714</td>\n",
              "      <td>-0.064971</td>\n",
              "      <td>0.048849</td>\n",
              "      <td>0.383290</td>\n",
              "      <td>0.103970</td>\n",
              "      <td>-0.047350</td>\n",
              "      <td>-0.064800</td>\n",
              "      <td>74.75</td>\n",
              "      <td>0</td>\n",
              "    </tr>\n",
              "    <tr>\n",
              "      <th>1</th>\n",
              "      <td>1</td>\n",
              "      <td>1.278609</td>\n",
              "      <td>0.102574</td>\n",
              "      <td>0.512079</td>\n",
              "      <td>0.003930</td>\n",
              "      <td>-0.723474</td>\n",
              "      <td>-1.334105</td>\n",
              "      <td>0.029958</td>\n",
              "      <td>-0.296595</td>\n",
              "      <td>0.128119</td>\n",
              "      <td>-0.209865</td>\n",
              "      <td>0.188511</td>\n",
              "      <td>0.674525</td>\n",
              "      <td>0.712608</td>\n",
              "      <td>0.122319</td>\n",
              "      <td>1.038024</td>\n",
              "      <td>0.128638</td>\n",
              "      <td>-0.222614</td>\n",
              "      <td>-0.687546</td>\n",
              "      <td>-0.056504</td>\n",
              "      <td>-0.040015</td>\n",
              "      <td>-0.081470</td>\n",
              "      <td>-0.182506</td>\n",
              "      <td>0.078986</td>\n",
              "      <td>0.789993</td>\n",
              "      <td>0.219794</td>\n",
              "      <td>0.938359</td>\n",
              "      <td>-0.078720</td>\n",
              "      <td>0.008119</td>\n",
              "      <td>1.38</td>\n",
              "      <td>0</td>\n",
              "    </tr>\n",
              "    <tr>\n",
              "      <th>2</th>\n",
              "      <td>2</td>\n",
              "      <td>1.466457</td>\n",
              "      <td>0.026088</td>\n",
              "      <td>-0.499298</td>\n",
              "      <td>-0.674372</td>\n",
              "      <td>-0.144883</td>\n",
              "      <td>-1.178075</td>\n",
              "      <td>0.058089</td>\n",
              "      <td>-0.420145</td>\n",
              "      <td>-1.359651</td>\n",
              "      <td>0.210249</td>\n",
              "      <td>-0.033777</td>\n",
              "      <td>-0.001594</td>\n",
              "      <td>1.767471</td>\n",
              "      <td>-1.212943</td>\n",
              "      <td>0.427684</td>\n",
              "      <td>1.252714</td>\n",
              "      <td>0.843412</td>\n",
              "      <td>-1.534474</td>\n",
              "      <td>0.830734</td>\n",
              "      <td>0.207653</td>\n",
              "      <td>-0.234087</td>\n",
              "      <td>-0.710542</td>\n",
              "      <td>-0.001242</td>\n",
              "      <td>-0.174713</td>\n",
              "      <td>0.533719</td>\n",
              "      <td>-0.454779</td>\n",
              "      <td>0.001524</td>\n",
              "      <td>0.030935</td>\n",
              "      <td>10.95</td>\n",
              "      <td>0</td>\n",
              "    </tr>\n",
              "    <tr>\n",
              "      <th>3</th>\n",
              "      <td>3</td>\n",
              "      <td>-0.922137</td>\n",
              "      <td>-0.371579</td>\n",
              "      <td>2.132018</td>\n",
              "      <td>-0.796997</td>\n",
              "      <td>0.324175</td>\n",
              "      <td>-1.162006</td>\n",
              "      <td>0.277208</td>\n",
              "      <td>-0.249586</td>\n",
              "      <td>-0.775648</td>\n",
              "      <td>-0.061757</td>\n",
              "      <td>-0.959725</td>\n",
              "      <td>0.408746</td>\n",
              "      <td>0.597641</td>\n",
              "      <td>-0.802430</td>\n",
              "      <td>-1.889520</td>\n",
              "      <td>-1.607785</td>\n",
              "      <td>-0.401475</td>\n",
              "      <td>0.729773</td>\n",
              "      <td>-2.445693</td>\n",
              "      <td>-0.461062</td>\n",
              "      <td>-0.302654</td>\n",
              "      <td>-0.246899</td>\n",
              "      <td>-0.045745</td>\n",
              "      <td>0.677110</td>\n",
              "      <td>0.016109</td>\n",
              "      <td>-0.734220</td>\n",
              "      <td>-0.034480</td>\n",
              "      <td>-0.064786</td>\n",
              "      <td>8.04</td>\n",
              "      <td>0</td>\n",
              "    </tr>\n",
              "    <tr>\n",
              "      <th>4</th>\n",
              "      <td>4</td>\n",
              "      <td>-1.166525</td>\n",
              "      <td>0.255439</td>\n",
              "      <td>2.108464</td>\n",
              "      <td>0.135019</td>\n",
              "      <td>-0.072979</td>\n",
              "      <td>0.910821</td>\n",
              "      <td>0.755918</td>\n",
              "      <td>0.355528</td>\n",
              "      <td>-0.422820</td>\n",
              "      <td>-0.842826</td>\n",
              "      <td>0.663538</td>\n",
              "      <td>0.624657</td>\n",
              "      <td>0.107262</td>\n",
              "      <td>-0.073654</td>\n",
              "      <td>-0.305506</td>\n",
              "      <td>0.618642</td>\n",
              "      <td>-0.952529</td>\n",
              "      <td>0.757618</td>\n",
              "      <td>-0.375461</td>\n",
              "      <td>0.353355</td>\n",
              "      <td>0.136470</td>\n",
              "      <td>0.017496</td>\n",
              "      <td>0.121017</td>\n",
              "      <td>0.636266</td>\n",
              "      <td>0.492943</td>\n",
              "      <td>-0.750242</td>\n",
              "      <td>0.029124</td>\n",
              "      <td>0.091303</td>\n",
              "      <td>175.00</td>\n",
              "      <td>0</td>\n",
              "    </tr>\n",
              "  </tbody>\n",
              "</table>\n",
              "</div>"
            ],
            "text/plain": [
              "   Index        V1        V2        V3  ...       V27       V28  Amount  Class\n",
              "0      0  2.245295 -1.160960 -1.966682  ... -0.047350 -0.064800   74.75      0\n",
              "1      1  1.278609  0.102574  0.512079  ... -0.078720  0.008119    1.38      0\n",
              "2      2  1.466457  0.026088 -0.499298  ...  0.001524  0.030935   10.95      0\n",
              "3      3 -0.922137 -0.371579  2.132018  ... -0.034480 -0.064786    8.04      0\n",
              "4      4 -1.166525  0.255439  2.108464  ...  0.029124  0.091303  175.00      0\n",
              "\n",
              "[5 rows x 31 columns]"
            ]
          },
          "metadata": {
            "tags": []
          },
          "execution_count": 149
        }
      ]
    },
    {
      "cell_type": "code",
      "metadata": {
        "id": "AIeXJ9CIkqUg"
      },
      "source": [
        "from sklearn.preprocessing import StandardScaler\n",
        "scaler = StandardScaler()"
      ],
      "execution_count": null,
      "outputs": []
    },
    {
      "cell_type": "code",
      "metadata": {
        "id": "qkNIFyBpkqUh",
        "colab": {
          "base_uri": "https://localhost:8080/",
          "height": 439
        },
        "outputId": "977e4552-55f9-4435-d5bd-54b20477744e"
      },
      "source": [
        "from sklearn.utils import resample\n",
        "df_majority = df[df.Class==0]\n",
        "df_minority = df[df.Class!=0]\n",
        "df_minority\n",
        " \n",
        "#Downsample majority class\n",
        "df_majority_downsampled = resample(df_majority,replace=False,n_samples=500,random_state=123) \n",
        " \n",
        "dataset1 = pd.concat([df_majority_downsampled, df_minority])\n",
        " \n",
        "# Display new class counts\n",
        "dataset1.Class.value_counts()\n",
        "dataset1"
      ],
      "execution_count": null,
      "outputs": [
        {
          "output_type": "execute_result",
          "data": {
            "text/html": [
              "<div>\n",
              "<style scoped>\n",
              "    .dataframe tbody tr th:only-of-type {\n",
              "        vertical-align: middle;\n",
              "    }\n",
              "\n",
              "    .dataframe tbody tr th {\n",
              "        vertical-align: top;\n",
              "    }\n",
              "\n",
              "    .dataframe thead th {\n",
              "        text-align: right;\n",
              "    }\n",
              "</style>\n",
              "<table border=\"1\" class=\"dataframe\">\n",
              "  <thead>\n",
              "    <tr style=\"text-align: right;\">\n",
              "      <th></th>\n",
              "      <th>Index</th>\n",
              "      <th>V1</th>\n",
              "      <th>V2</th>\n",
              "      <th>V3</th>\n",
              "      <th>V4</th>\n",
              "      <th>V5</th>\n",
              "      <th>V6</th>\n",
              "      <th>V7</th>\n",
              "      <th>V8</th>\n",
              "      <th>V9</th>\n",
              "      <th>V10</th>\n",
              "      <th>V11</th>\n",
              "      <th>V12</th>\n",
              "      <th>V13</th>\n",
              "      <th>V14</th>\n",
              "      <th>V15</th>\n",
              "      <th>V16</th>\n",
              "      <th>V17</th>\n",
              "      <th>V18</th>\n",
              "      <th>V19</th>\n",
              "      <th>V20</th>\n",
              "      <th>V21</th>\n",
              "      <th>V22</th>\n",
              "      <th>V23</th>\n",
              "      <th>V24</th>\n",
              "      <th>V25</th>\n",
              "      <th>V26</th>\n",
              "      <th>V27</th>\n",
              "      <th>V28</th>\n",
              "      <th>Amount</th>\n",
              "      <th>Class</th>\n",
              "    </tr>\n",
              "  </thead>\n",
              "  <tbody>\n",
              "    <tr>\n",
              "      <th>5557</th>\n",
              "      <td>5557</td>\n",
              "      <td>-0.286506</td>\n",
              "      <td>1.483877</td>\n",
              "      <td>1.296656</td>\n",
              "      <td>1.830624</td>\n",
              "      <td>0.804772</td>\n",
              "      <td>-0.620905</td>\n",
              "      <td>1.537253</td>\n",
              "      <td>-0.533306</td>\n",
              "      <td>-1.574283</td>\n",
              "      <td>0.585061</td>\n",
              "      <td>-0.391437</td>\n",
              "      <td>0.085668</td>\n",
              "      <td>1.013337</td>\n",
              "      <td>-0.067326</td>\n",
              "      <td>-0.091619</td>\n",
              "      <td>0.096048</td>\n",
              "      <td>-0.640788</td>\n",
              "      <td>-0.510616</td>\n",
              "      <td>-0.750035</td>\n",
              "      <td>0.020316</td>\n",
              "      <td>0.035584</td>\n",
              "      <td>0.220838</td>\n",
              "      <td>-0.294050</td>\n",
              "      <td>0.421327</td>\n",
              "      <td>0.292934</td>\n",
              "      <td>-0.017196</td>\n",
              "      <td>-0.300206</td>\n",
              "      <td>-0.210138</td>\n",
              "      <td>20.00</td>\n",
              "      <td>0</td>\n",
              "    </tr>\n",
              "    <tr>\n",
              "      <th>189143</th>\n",
              "      <td>189143</td>\n",
              "      <td>0.027315</td>\n",
              "      <td>-2.962887</td>\n",
              "      <td>0.323169</td>\n",
              "      <td>-0.062928</td>\n",
              "      <td>-1.823663</td>\n",
              "      <td>0.883502</td>\n",
              "      <td>-0.427193</td>\n",
              "      <td>0.174294</td>\n",
              "      <td>-0.220772</td>\n",
              "      <td>0.197776</td>\n",
              "      <td>0.867747</td>\n",
              "      <td>0.588848</td>\n",
              "      <td>0.372375</td>\n",
              "      <td>-0.614239</td>\n",
              "      <td>-1.051076</td>\n",
              "      <td>0.812886</td>\n",
              "      <td>0.603264</td>\n",
              "      <td>-1.286998</td>\n",
              "      <td>0.762201</td>\n",
              "      <td>1.373300</td>\n",
              "      <td>0.455065</td>\n",
              "      <td>0.028891</td>\n",
              "      <td>-0.591603</td>\n",
              "      <td>-0.244121</td>\n",
              "      <td>0.095391</td>\n",
              "      <td>-0.281050</td>\n",
              "      <td>-0.054412</td>\n",
              "      <td>0.121573</td>\n",
              "      <td>657.55</td>\n",
              "      <td>0</td>\n",
              "    </tr>\n",
              "    <tr>\n",
              "      <th>217166</th>\n",
              "      <td>217166</td>\n",
              "      <td>1.161457</td>\n",
              "      <td>0.342126</td>\n",
              "      <td>0.596969</td>\n",
              "      <td>1.137035</td>\n",
              "      <td>-0.289921</td>\n",
              "      <td>-0.597790</td>\n",
              "      <td>0.093898</td>\n",
              "      <td>-0.114521</td>\n",
              "      <td>-0.085083</td>\n",
              "      <td>-0.071066</td>\n",
              "      <td>0.275224</td>\n",
              "      <td>0.815874</td>\n",
              "      <td>0.715484</td>\n",
              "      <td>0.230024</td>\n",
              "      <td>1.166685</td>\n",
              "      <td>-0.249527</td>\n",
              "      <td>-0.120944</td>\n",
              "      <td>-0.814322</td>\n",
              "      <td>-0.860259</td>\n",
              "      <td>-0.128026</td>\n",
              "      <td>0.005647</td>\n",
              "      <td>0.107395</td>\n",
              "      <td>0.038325</td>\n",
              "      <td>0.402180</td>\n",
              "      <td>0.449769</td>\n",
              "      <td>-0.431766</td>\n",
              "      <td>0.043762</td>\n",
              "      <td>0.027593</td>\n",
              "      <td>7.19</td>\n",
              "      <td>0</td>\n",
              "    </tr>\n",
              "    <tr>\n",
              "      <th>44582</th>\n",
              "      <td>44582</td>\n",
              "      <td>1.935320</td>\n",
              "      <td>-0.571370</td>\n",
              "      <td>-0.875981</td>\n",
              "      <td>-0.098773</td>\n",
              "      <td>0.061064</td>\n",
              "      <td>0.634513</td>\n",
              "      <td>-0.573312</td>\n",
              "      <td>0.165900</td>\n",
              "      <td>0.777935</td>\n",
              "      <td>0.111132</td>\n",
              "      <td>0.048667</td>\n",
              "      <td>1.079360</td>\n",
              "      <td>0.982807</td>\n",
              "      <td>-0.120085</td>\n",
              "      <td>-0.116394</td>\n",
              "      <td>0.953468</td>\n",
              "      <td>-1.217769</td>\n",
              "      <td>0.380287</td>\n",
              "      <td>0.610641</td>\n",
              "      <td>0.046221</td>\n",
              "      <td>-0.199225</td>\n",
              "      <td>-0.619102</td>\n",
              "      <td>0.254756</td>\n",
              "      <td>-0.334198</td>\n",
              "      <td>-0.501719</td>\n",
              "      <td>0.278271</td>\n",
              "      <td>-0.050622</td>\n",
              "      <td>-0.045397</td>\n",
              "      <td>64.00</td>\n",
              "      <td>0</td>\n",
              "    </tr>\n",
              "    <tr>\n",
              "      <th>152158</th>\n",
              "      <td>152158</td>\n",
              "      <td>1.119941</td>\n",
              "      <td>-0.216024</td>\n",
              "      <td>1.362047</td>\n",
              "      <td>0.959006</td>\n",
              "      <td>-1.276754</td>\n",
              "      <td>-0.491515</td>\n",
              "      <td>-0.592218</td>\n",
              "      <td>0.046830</td>\n",
              "      <td>0.910009</td>\n",
              "      <td>-0.249010</td>\n",
              "      <td>-0.443562</td>\n",
              "      <td>0.536990</td>\n",
              "      <td>-0.034620</td>\n",
              "      <td>-0.377712</td>\n",
              "      <td>0.180358</td>\n",
              "      <td>0.070765</td>\n",
              "      <td>-0.053027</td>\n",
              "      <td>-0.336049</td>\n",
              "      <td>-0.170090</td>\n",
              "      <td>-0.072864</td>\n",
              "      <td>-0.058449</td>\n",
              "      <td>-0.021478</td>\n",
              "      <td>0.054220</td>\n",
              "      <td>0.747833</td>\n",
              "      <td>0.202373</td>\n",
              "      <td>0.294721</td>\n",
              "      <td>0.013497</td>\n",
              "      <td>0.033920</td>\n",
              "      <td>28.75</td>\n",
              "      <td>0</td>\n",
              "    </tr>\n",
              "    <tr>\n",
              "      <th>...</th>\n",
              "      <td>...</td>\n",
              "      <td>...</td>\n",
              "      <td>...</td>\n",
              "      <td>...</td>\n",
              "      <td>...</td>\n",
              "      <td>...</td>\n",
              "      <td>...</td>\n",
              "      <td>...</td>\n",
              "      <td>...</td>\n",
              "      <td>...</td>\n",
              "      <td>...</td>\n",
              "      <td>...</td>\n",
              "      <td>...</td>\n",
              "      <td>...</td>\n",
              "      <td>...</td>\n",
              "      <td>...</td>\n",
              "      <td>...</td>\n",
              "      <td>...</td>\n",
              "      <td>...</td>\n",
              "      <td>...</td>\n",
              "      <td>...</td>\n",
              "      <td>...</td>\n",
              "      <td>...</td>\n",
              "      <td>...</td>\n",
              "      <td>...</td>\n",
              "      <td>...</td>\n",
              "      <td>...</td>\n",
              "      <td>...</td>\n",
              "      <td>...</td>\n",
              "      <td>...</td>\n",
              "      <td>...</td>\n",
              "    </tr>\n",
              "    <tr>\n",
              "      <th>279108</th>\n",
              "      <td>279108</td>\n",
              "      <td>-1.322789</td>\n",
              "      <td>1.552768</td>\n",
              "      <td>-2.276921</td>\n",
              "      <td>2.992117</td>\n",
              "      <td>-1.947064</td>\n",
              "      <td>-0.480288</td>\n",
              "      <td>-1.362388</td>\n",
              "      <td>0.953242</td>\n",
              "      <td>-2.329629</td>\n",
              "      <td>-3.393553</td>\n",
              "      <td>3.128440</td>\n",
              "      <td>-3.570394</td>\n",
              "      <td>-0.595198</td>\n",
              "      <td>-3.988415</td>\n",
              "      <td>0.995906</td>\n",
              "      <td>-2.843785</td>\n",
              "      <td>-4.826246</td>\n",
              "      <td>-0.703883</td>\n",
              "      <td>2.152215</td>\n",
              "      <td>0.988493</td>\n",
              "      <td>0.614969</td>\n",
              "      <td>-0.195200</td>\n",
              "      <td>0.590711</td>\n",
              "      <td>-0.233378</td>\n",
              "      <td>-0.164285</td>\n",
              "      <td>-0.277498</td>\n",
              "      <td>0.428610</td>\n",
              "      <td>0.246394</td>\n",
              "      <td>270.00</td>\n",
              "      <td>1</td>\n",
              "    </tr>\n",
              "    <tr>\n",
              "      <th>279194</th>\n",
              "      <td>279194</td>\n",
              "      <td>-18.474868</td>\n",
              "      <td>11.586381</td>\n",
              "      <td>-21.402917</td>\n",
              "      <td>6.038515</td>\n",
              "      <td>-14.451158</td>\n",
              "      <td>-4.146524</td>\n",
              "      <td>-14.856124</td>\n",
              "      <td>12.431140</td>\n",
              "      <td>-4.053353</td>\n",
              "      <td>-9.040396</td>\n",
              "      <td>5.966203</td>\n",
              "      <td>-8.463966</td>\n",
              "      <td>0.078692</td>\n",
              "      <td>-9.092533</td>\n",
              "      <td>0.010822</td>\n",
              "      <td>-7.186376</td>\n",
              "      <td>-13.797475</td>\n",
              "      <td>-4.958494</td>\n",
              "      <td>1.321167</td>\n",
              "      <td>1.577924</td>\n",
              "      <td>1.741136</td>\n",
              "      <td>-1.251138</td>\n",
              "      <td>-0.396219</td>\n",
              "      <td>0.095706</td>\n",
              "      <td>1.322751</td>\n",
              "      <td>-0.217955</td>\n",
              "      <td>1.628793</td>\n",
              "      <td>0.482248</td>\n",
              "      <td>99.99</td>\n",
              "      <td>1</td>\n",
              "    </tr>\n",
              "    <tr>\n",
              "      <th>279528</th>\n",
              "      <td>279528</td>\n",
              "      <td>0.378275</td>\n",
              "      <td>3.914797</td>\n",
              "      <td>-5.726872</td>\n",
              "      <td>6.094141</td>\n",
              "      <td>1.698875</td>\n",
              "      <td>-2.807314</td>\n",
              "      <td>-0.591118</td>\n",
              "      <td>-0.123496</td>\n",
              "      <td>-2.530713</td>\n",
              "      <td>-5.153095</td>\n",
              "      <td>4.654088</td>\n",
              "      <td>-7.839539</td>\n",
              "      <td>1.371819</td>\n",
              "      <td>-9.634690</td>\n",
              "      <td>-0.739597</td>\n",
              "      <td>-0.663204</td>\n",
              "      <td>0.891935</td>\n",
              "      <td>0.978676</td>\n",
              "      <td>-2.005477</td>\n",
              "      <td>0.440439</td>\n",
              "      <td>0.149896</td>\n",
              "      <td>-0.601967</td>\n",
              "      <td>-0.613724</td>\n",
              "      <td>-0.403114</td>\n",
              "      <td>1.568445</td>\n",
              "      <td>0.521884</td>\n",
              "      <td>0.527938</td>\n",
              "      <td>0.411910</td>\n",
              "      <td>1.00</td>\n",
              "      <td>1</td>\n",
              "    </tr>\n",
              "    <tr>\n",
              "      <th>280854</th>\n",
              "      <td>280854</td>\n",
              "      <td>-1.201398</td>\n",
              "      <td>4.864535</td>\n",
              "      <td>-8.328823</td>\n",
              "      <td>7.652399</td>\n",
              "      <td>-0.167445</td>\n",
              "      <td>-2.767695</td>\n",
              "      <td>-3.176421</td>\n",
              "      <td>1.623279</td>\n",
              "      <td>-4.367228</td>\n",
              "      <td>-5.533443</td>\n",
              "      <td>4.106405</td>\n",
              "      <td>-6.331825</td>\n",
              "      <td>0.671785</td>\n",
              "      <td>-12.156587</td>\n",
              "      <td>1.020252</td>\n",
              "      <td>-2.110863</td>\n",
              "      <td>-1.558545</td>\n",
              "      <td>0.195992</td>\n",
              "      <td>0.502453</td>\n",
              "      <td>0.597026</td>\n",
              "      <td>0.532320</td>\n",
              "      <td>-0.556913</td>\n",
              "      <td>0.192444</td>\n",
              "      <td>-0.698588</td>\n",
              "      <td>0.025003</td>\n",
              "      <td>0.514968</td>\n",
              "      <td>0.378105</td>\n",
              "      <td>-0.053133</td>\n",
              "      <td>0.77</td>\n",
              "      <td>1</td>\n",
              "    </tr>\n",
              "    <tr>\n",
              "      <th>282522</th>\n",
              "      <td>282522</td>\n",
              "      <td>-6.677212</td>\n",
              "      <td>5.529299</td>\n",
              "      <td>-7.193275</td>\n",
              "      <td>6.081321</td>\n",
              "      <td>-1.636071</td>\n",
              "      <td>0.500610</td>\n",
              "      <td>-4.640770</td>\n",
              "      <td>-4.339840</td>\n",
              "      <td>-0.950036</td>\n",
              "      <td>0.566680</td>\n",
              "      <td>4.315076</td>\n",
              "      <td>-4.938284</td>\n",
              "      <td>-1.105710</td>\n",
              "      <td>-8.490813</td>\n",
              "      <td>1.003626</td>\n",
              "      <td>-1.949123</td>\n",
              "      <td>-3.093013</td>\n",
              "      <td>0.124087</td>\n",
              "      <td>0.886747</td>\n",
              "      <td>-1.118687</td>\n",
              "      <td>5.563301</td>\n",
              "      <td>-1.608272</td>\n",
              "      <td>0.965322</td>\n",
              "      <td>0.163718</td>\n",
              "      <td>0.047531</td>\n",
              "      <td>0.466165</td>\n",
              "      <td>0.278547</td>\n",
              "      <td>1.471988</td>\n",
              "      <td>105.89</td>\n",
              "      <td>1</td>\n",
              "    </tr>\n",
              "  </tbody>\n",
              "</table>\n",
              "<p>940 rows × 31 columns</p>\n",
              "</div>"
            ],
            "text/plain": [
              "         Index         V1         V2  ...       V28  Amount  Class\n",
              "5557      5557  -0.286506   1.483877  ... -0.210138   20.00      0\n",
              "189143  189143   0.027315  -2.962887  ...  0.121573  657.55      0\n",
              "217166  217166   1.161457   0.342126  ...  0.027593    7.19      0\n",
              "44582    44582   1.935320  -0.571370  ... -0.045397   64.00      0\n",
              "152158  152158   1.119941  -0.216024  ...  0.033920   28.75      0\n",
              "...        ...        ...        ...  ...       ...     ...    ...\n",
              "279108  279108  -1.322789   1.552768  ...  0.246394  270.00      1\n",
              "279194  279194 -18.474868  11.586381  ...  0.482248   99.99      1\n",
              "279528  279528   0.378275   3.914797  ...  0.411910    1.00      1\n",
              "280854  280854  -1.201398   4.864535  ... -0.053133    0.77      1\n",
              "282522  282522  -6.677212   5.529299  ...  1.471988  105.89      1\n",
              "\n",
              "[940 rows x 31 columns]"
            ]
          },
          "metadata": {
            "tags": []
          },
          "execution_count": 151
        }
      ]
    },
    {
      "cell_type": "code",
      "metadata": {
        "id": "4L5_fWVBkqUh",
        "colab": {
          "base_uri": "https://localhost:8080/",
          "height": 439
        },
        "outputId": "6977e468-ab97-4b50-d514-2b3268f53739"
      },
      "source": [
        "inputs=dataset1.drop([\"Index\",\"Class\"],axis=\"columns\")\n",
        "target=dataset1[\"Class\"]\n",
        "inputs"
      ],
      "execution_count": null,
      "outputs": [
        {
          "output_type": "execute_result",
          "data": {
            "text/html": [
              "<div>\n",
              "<style scoped>\n",
              "    .dataframe tbody tr th:only-of-type {\n",
              "        vertical-align: middle;\n",
              "    }\n",
              "\n",
              "    .dataframe tbody tr th {\n",
              "        vertical-align: top;\n",
              "    }\n",
              "\n",
              "    .dataframe thead th {\n",
              "        text-align: right;\n",
              "    }\n",
              "</style>\n",
              "<table border=\"1\" class=\"dataframe\">\n",
              "  <thead>\n",
              "    <tr style=\"text-align: right;\">\n",
              "      <th></th>\n",
              "      <th>V1</th>\n",
              "      <th>V2</th>\n",
              "      <th>V3</th>\n",
              "      <th>V4</th>\n",
              "      <th>V5</th>\n",
              "      <th>V6</th>\n",
              "      <th>V7</th>\n",
              "      <th>V8</th>\n",
              "      <th>V9</th>\n",
              "      <th>V10</th>\n",
              "      <th>V11</th>\n",
              "      <th>V12</th>\n",
              "      <th>V13</th>\n",
              "      <th>V14</th>\n",
              "      <th>V15</th>\n",
              "      <th>V16</th>\n",
              "      <th>V17</th>\n",
              "      <th>V18</th>\n",
              "      <th>V19</th>\n",
              "      <th>V20</th>\n",
              "      <th>V21</th>\n",
              "      <th>V22</th>\n",
              "      <th>V23</th>\n",
              "      <th>V24</th>\n",
              "      <th>V25</th>\n",
              "      <th>V26</th>\n",
              "      <th>V27</th>\n",
              "      <th>V28</th>\n",
              "      <th>Amount</th>\n",
              "    </tr>\n",
              "  </thead>\n",
              "  <tbody>\n",
              "    <tr>\n",
              "      <th>5557</th>\n",
              "      <td>-0.286506</td>\n",
              "      <td>1.483877</td>\n",
              "      <td>1.296656</td>\n",
              "      <td>1.830624</td>\n",
              "      <td>0.804772</td>\n",
              "      <td>-0.620905</td>\n",
              "      <td>1.537253</td>\n",
              "      <td>-0.533306</td>\n",
              "      <td>-1.574283</td>\n",
              "      <td>0.585061</td>\n",
              "      <td>-0.391437</td>\n",
              "      <td>0.085668</td>\n",
              "      <td>1.013337</td>\n",
              "      <td>-0.067326</td>\n",
              "      <td>-0.091619</td>\n",
              "      <td>0.096048</td>\n",
              "      <td>-0.640788</td>\n",
              "      <td>-0.510616</td>\n",
              "      <td>-0.750035</td>\n",
              "      <td>0.020316</td>\n",
              "      <td>0.035584</td>\n",
              "      <td>0.220838</td>\n",
              "      <td>-0.294050</td>\n",
              "      <td>0.421327</td>\n",
              "      <td>0.292934</td>\n",
              "      <td>-0.017196</td>\n",
              "      <td>-0.300206</td>\n",
              "      <td>-0.210138</td>\n",
              "      <td>20.00</td>\n",
              "    </tr>\n",
              "    <tr>\n",
              "      <th>189143</th>\n",
              "      <td>0.027315</td>\n",
              "      <td>-2.962887</td>\n",
              "      <td>0.323169</td>\n",
              "      <td>-0.062928</td>\n",
              "      <td>-1.823663</td>\n",
              "      <td>0.883502</td>\n",
              "      <td>-0.427193</td>\n",
              "      <td>0.174294</td>\n",
              "      <td>-0.220772</td>\n",
              "      <td>0.197776</td>\n",
              "      <td>0.867747</td>\n",
              "      <td>0.588848</td>\n",
              "      <td>0.372375</td>\n",
              "      <td>-0.614239</td>\n",
              "      <td>-1.051076</td>\n",
              "      <td>0.812886</td>\n",
              "      <td>0.603264</td>\n",
              "      <td>-1.286998</td>\n",
              "      <td>0.762201</td>\n",
              "      <td>1.373300</td>\n",
              "      <td>0.455065</td>\n",
              "      <td>0.028891</td>\n",
              "      <td>-0.591603</td>\n",
              "      <td>-0.244121</td>\n",
              "      <td>0.095391</td>\n",
              "      <td>-0.281050</td>\n",
              "      <td>-0.054412</td>\n",
              "      <td>0.121573</td>\n",
              "      <td>657.55</td>\n",
              "    </tr>\n",
              "    <tr>\n",
              "      <th>217166</th>\n",
              "      <td>1.161457</td>\n",
              "      <td>0.342126</td>\n",
              "      <td>0.596969</td>\n",
              "      <td>1.137035</td>\n",
              "      <td>-0.289921</td>\n",
              "      <td>-0.597790</td>\n",
              "      <td>0.093898</td>\n",
              "      <td>-0.114521</td>\n",
              "      <td>-0.085083</td>\n",
              "      <td>-0.071066</td>\n",
              "      <td>0.275224</td>\n",
              "      <td>0.815874</td>\n",
              "      <td>0.715484</td>\n",
              "      <td>0.230024</td>\n",
              "      <td>1.166685</td>\n",
              "      <td>-0.249527</td>\n",
              "      <td>-0.120944</td>\n",
              "      <td>-0.814322</td>\n",
              "      <td>-0.860259</td>\n",
              "      <td>-0.128026</td>\n",
              "      <td>0.005647</td>\n",
              "      <td>0.107395</td>\n",
              "      <td>0.038325</td>\n",
              "      <td>0.402180</td>\n",
              "      <td>0.449769</td>\n",
              "      <td>-0.431766</td>\n",
              "      <td>0.043762</td>\n",
              "      <td>0.027593</td>\n",
              "      <td>7.19</td>\n",
              "    </tr>\n",
              "    <tr>\n",
              "      <th>44582</th>\n",
              "      <td>1.935320</td>\n",
              "      <td>-0.571370</td>\n",
              "      <td>-0.875981</td>\n",
              "      <td>-0.098773</td>\n",
              "      <td>0.061064</td>\n",
              "      <td>0.634513</td>\n",
              "      <td>-0.573312</td>\n",
              "      <td>0.165900</td>\n",
              "      <td>0.777935</td>\n",
              "      <td>0.111132</td>\n",
              "      <td>0.048667</td>\n",
              "      <td>1.079360</td>\n",
              "      <td>0.982807</td>\n",
              "      <td>-0.120085</td>\n",
              "      <td>-0.116394</td>\n",
              "      <td>0.953468</td>\n",
              "      <td>-1.217769</td>\n",
              "      <td>0.380287</td>\n",
              "      <td>0.610641</td>\n",
              "      <td>0.046221</td>\n",
              "      <td>-0.199225</td>\n",
              "      <td>-0.619102</td>\n",
              "      <td>0.254756</td>\n",
              "      <td>-0.334198</td>\n",
              "      <td>-0.501719</td>\n",
              "      <td>0.278271</td>\n",
              "      <td>-0.050622</td>\n",
              "      <td>-0.045397</td>\n",
              "      <td>64.00</td>\n",
              "    </tr>\n",
              "    <tr>\n",
              "      <th>152158</th>\n",
              "      <td>1.119941</td>\n",
              "      <td>-0.216024</td>\n",
              "      <td>1.362047</td>\n",
              "      <td>0.959006</td>\n",
              "      <td>-1.276754</td>\n",
              "      <td>-0.491515</td>\n",
              "      <td>-0.592218</td>\n",
              "      <td>0.046830</td>\n",
              "      <td>0.910009</td>\n",
              "      <td>-0.249010</td>\n",
              "      <td>-0.443562</td>\n",
              "      <td>0.536990</td>\n",
              "      <td>-0.034620</td>\n",
              "      <td>-0.377712</td>\n",
              "      <td>0.180358</td>\n",
              "      <td>0.070765</td>\n",
              "      <td>-0.053027</td>\n",
              "      <td>-0.336049</td>\n",
              "      <td>-0.170090</td>\n",
              "      <td>-0.072864</td>\n",
              "      <td>-0.058449</td>\n",
              "      <td>-0.021478</td>\n",
              "      <td>0.054220</td>\n",
              "      <td>0.747833</td>\n",
              "      <td>0.202373</td>\n",
              "      <td>0.294721</td>\n",
              "      <td>0.013497</td>\n",
              "      <td>0.033920</td>\n",
              "      <td>28.75</td>\n",
              "    </tr>\n",
              "    <tr>\n",
              "      <th>...</th>\n",
              "      <td>...</td>\n",
              "      <td>...</td>\n",
              "      <td>...</td>\n",
              "      <td>...</td>\n",
              "      <td>...</td>\n",
              "      <td>...</td>\n",
              "      <td>...</td>\n",
              "      <td>...</td>\n",
              "      <td>...</td>\n",
              "      <td>...</td>\n",
              "      <td>...</td>\n",
              "      <td>...</td>\n",
              "      <td>...</td>\n",
              "      <td>...</td>\n",
              "      <td>...</td>\n",
              "      <td>...</td>\n",
              "      <td>...</td>\n",
              "      <td>...</td>\n",
              "      <td>...</td>\n",
              "      <td>...</td>\n",
              "      <td>...</td>\n",
              "      <td>...</td>\n",
              "      <td>...</td>\n",
              "      <td>...</td>\n",
              "      <td>...</td>\n",
              "      <td>...</td>\n",
              "      <td>...</td>\n",
              "      <td>...</td>\n",
              "      <td>...</td>\n",
              "    </tr>\n",
              "    <tr>\n",
              "      <th>279108</th>\n",
              "      <td>-1.322789</td>\n",
              "      <td>1.552768</td>\n",
              "      <td>-2.276921</td>\n",
              "      <td>2.992117</td>\n",
              "      <td>-1.947064</td>\n",
              "      <td>-0.480288</td>\n",
              "      <td>-1.362388</td>\n",
              "      <td>0.953242</td>\n",
              "      <td>-2.329629</td>\n",
              "      <td>-3.393553</td>\n",
              "      <td>3.128440</td>\n",
              "      <td>-3.570394</td>\n",
              "      <td>-0.595198</td>\n",
              "      <td>-3.988415</td>\n",
              "      <td>0.995906</td>\n",
              "      <td>-2.843785</td>\n",
              "      <td>-4.826246</td>\n",
              "      <td>-0.703883</td>\n",
              "      <td>2.152215</td>\n",
              "      <td>0.988493</td>\n",
              "      <td>0.614969</td>\n",
              "      <td>-0.195200</td>\n",
              "      <td>0.590711</td>\n",
              "      <td>-0.233378</td>\n",
              "      <td>-0.164285</td>\n",
              "      <td>-0.277498</td>\n",
              "      <td>0.428610</td>\n",
              "      <td>0.246394</td>\n",
              "      <td>270.00</td>\n",
              "    </tr>\n",
              "    <tr>\n",
              "      <th>279194</th>\n",
              "      <td>-18.474868</td>\n",
              "      <td>11.586381</td>\n",
              "      <td>-21.402917</td>\n",
              "      <td>6.038515</td>\n",
              "      <td>-14.451158</td>\n",
              "      <td>-4.146524</td>\n",
              "      <td>-14.856124</td>\n",
              "      <td>12.431140</td>\n",
              "      <td>-4.053353</td>\n",
              "      <td>-9.040396</td>\n",
              "      <td>5.966203</td>\n",
              "      <td>-8.463966</td>\n",
              "      <td>0.078692</td>\n",
              "      <td>-9.092533</td>\n",
              "      <td>0.010822</td>\n",
              "      <td>-7.186376</td>\n",
              "      <td>-13.797475</td>\n",
              "      <td>-4.958494</td>\n",
              "      <td>1.321167</td>\n",
              "      <td>1.577924</td>\n",
              "      <td>1.741136</td>\n",
              "      <td>-1.251138</td>\n",
              "      <td>-0.396219</td>\n",
              "      <td>0.095706</td>\n",
              "      <td>1.322751</td>\n",
              "      <td>-0.217955</td>\n",
              "      <td>1.628793</td>\n",
              "      <td>0.482248</td>\n",
              "      <td>99.99</td>\n",
              "    </tr>\n",
              "    <tr>\n",
              "      <th>279528</th>\n",
              "      <td>0.378275</td>\n",
              "      <td>3.914797</td>\n",
              "      <td>-5.726872</td>\n",
              "      <td>6.094141</td>\n",
              "      <td>1.698875</td>\n",
              "      <td>-2.807314</td>\n",
              "      <td>-0.591118</td>\n",
              "      <td>-0.123496</td>\n",
              "      <td>-2.530713</td>\n",
              "      <td>-5.153095</td>\n",
              "      <td>4.654088</td>\n",
              "      <td>-7.839539</td>\n",
              "      <td>1.371819</td>\n",
              "      <td>-9.634690</td>\n",
              "      <td>-0.739597</td>\n",
              "      <td>-0.663204</td>\n",
              "      <td>0.891935</td>\n",
              "      <td>0.978676</td>\n",
              "      <td>-2.005477</td>\n",
              "      <td>0.440439</td>\n",
              "      <td>0.149896</td>\n",
              "      <td>-0.601967</td>\n",
              "      <td>-0.613724</td>\n",
              "      <td>-0.403114</td>\n",
              "      <td>1.568445</td>\n",
              "      <td>0.521884</td>\n",
              "      <td>0.527938</td>\n",
              "      <td>0.411910</td>\n",
              "      <td>1.00</td>\n",
              "    </tr>\n",
              "    <tr>\n",
              "      <th>280854</th>\n",
              "      <td>-1.201398</td>\n",
              "      <td>4.864535</td>\n",
              "      <td>-8.328823</td>\n",
              "      <td>7.652399</td>\n",
              "      <td>-0.167445</td>\n",
              "      <td>-2.767695</td>\n",
              "      <td>-3.176421</td>\n",
              "      <td>1.623279</td>\n",
              "      <td>-4.367228</td>\n",
              "      <td>-5.533443</td>\n",
              "      <td>4.106405</td>\n",
              "      <td>-6.331825</td>\n",
              "      <td>0.671785</td>\n",
              "      <td>-12.156587</td>\n",
              "      <td>1.020252</td>\n",
              "      <td>-2.110863</td>\n",
              "      <td>-1.558545</td>\n",
              "      <td>0.195992</td>\n",
              "      <td>0.502453</td>\n",
              "      <td>0.597026</td>\n",
              "      <td>0.532320</td>\n",
              "      <td>-0.556913</td>\n",
              "      <td>0.192444</td>\n",
              "      <td>-0.698588</td>\n",
              "      <td>0.025003</td>\n",
              "      <td>0.514968</td>\n",
              "      <td>0.378105</td>\n",
              "      <td>-0.053133</td>\n",
              "      <td>0.77</td>\n",
              "    </tr>\n",
              "    <tr>\n",
              "      <th>282522</th>\n",
              "      <td>-6.677212</td>\n",
              "      <td>5.529299</td>\n",
              "      <td>-7.193275</td>\n",
              "      <td>6.081321</td>\n",
              "      <td>-1.636071</td>\n",
              "      <td>0.500610</td>\n",
              "      <td>-4.640770</td>\n",
              "      <td>-4.339840</td>\n",
              "      <td>-0.950036</td>\n",
              "      <td>0.566680</td>\n",
              "      <td>4.315076</td>\n",
              "      <td>-4.938284</td>\n",
              "      <td>-1.105710</td>\n",
              "      <td>-8.490813</td>\n",
              "      <td>1.003626</td>\n",
              "      <td>-1.949123</td>\n",
              "      <td>-3.093013</td>\n",
              "      <td>0.124087</td>\n",
              "      <td>0.886747</td>\n",
              "      <td>-1.118687</td>\n",
              "      <td>5.563301</td>\n",
              "      <td>-1.608272</td>\n",
              "      <td>0.965322</td>\n",
              "      <td>0.163718</td>\n",
              "      <td>0.047531</td>\n",
              "      <td>0.466165</td>\n",
              "      <td>0.278547</td>\n",
              "      <td>1.471988</td>\n",
              "      <td>105.89</td>\n",
              "    </tr>\n",
              "  </tbody>\n",
              "</table>\n",
              "<p>940 rows × 29 columns</p>\n",
              "</div>"
            ],
            "text/plain": [
              "               V1         V2         V3  ...       V27       V28  Amount\n",
              "5557    -0.286506   1.483877   1.296656  ... -0.300206 -0.210138   20.00\n",
              "189143   0.027315  -2.962887   0.323169  ... -0.054412  0.121573  657.55\n",
              "217166   1.161457   0.342126   0.596969  ...  0.043762  0.027593    7.19\n",
              "44582    1.935320  -0.571370  -0.875981  ... -0.050622 -0.045397   64.00\n",
              "152158   1.119941  -0.216024   1.362047  ...  0.013497  0.033920   28.75\n",
              "...           ...        ...        ...  ...       ...       ...     ...\n",
              "279108  -1.322789   1.552768  -2.276921  ...  0.428610  0.246394  270.00\n",
              "279194 -18.474868  11.586381 -21.402917  ...  1.628793  0.482248   99.99\n",
              "279528   0.378275   3.914797  -5.726872  ...  0.527938  0.411910    1.00\n",
              "280854  -1.201398   4.864535  -8.328823  ...  0.378105 -0.053133    0.77\n",
              "282522  -6.677212   5.529299  -7.193275  ...  0.278547  1.471988  105.89\n",
              "\n",
              "[940 rows x 29 columns]"
            ]
          },
          "metadata": {
            "tags": []
          },
          "execution_count": 152
        }
      ]
    },
    {
      "cell_type": "markdown",
      "source": [
        "## Train Test Split"
      ],
      "metadata": {
        "id": "Q4ToEMfzYdi3"
      }
    },
    {
      "cell_type": "code",
      "metadata": {
        "id": "gFzgCW6xkqUh"
      },
      "source": [
        "from sklearn.model_selection import train_test_split\n",
        "X_train,X_test,y_train,y_test=train_test_split(inputs,target,test_size=0.4)\n",
        "dataset=pd.concat([X_train,y_train ], axis=1, sort=False)"
      ],
      "execution_count": null,
      "outputs": []
    },
    {
      "cell_type": "code",
      "metadata": {
        "id": "kYURzppDkqUi"
      },
      "source": [
        "from sklearn.preprocessing import StandardScaler\n",
        "scaler = StandardScaler() \n",
        "X_train = scaler.fit_transform(X_train) \n",
        "X_test = scaler.transform(X_test)"
      ],
      "execution_count": null,
      "outputs": []
    },
    {
      "cell_type": "markdown",
      "source": [
        "## Model"
      ],
      "metadata": {
        "id": "_kmVa9_mYj8n"
      }
    },
    {
      "cell_type": "code",
      "metadata": {
        "id": "yvcOd7cXKZI5"
      },
      "source": [
        "kfold = StratifiedKFold(n_splits=5)\n",
        "random_state = 17\n",
        "classifiers = []\n",
        "classifiers.append(SVC(random_state=random_state))\n",
        "classifiers.append(DecisionTreeClassifier(random_state=random_state))\n",
        "classifiers.append(AdaBoostClassifier(DecisionTreeClassifier(random_state=random_state),random_state=random_state,learning_rate=0.1))\n",
        "classifiers.append(RandomForestClassifier(random_state=random_state))\n",
        "classifiers.append(ExtraTreesClassifier(random_state=random_state))\n",
        "classifiers.append(GradientBoostingClassifier(random_state=random_state))\n",
        "classifiers.append(MLPClassifier(random_state=random_state))\n",
        "classifiers.append(KNeighborsClassifier())\n",
        "classifiers.append(LogisticRegression(random_state = random_state))\n",
        "classifiers.append(LinearDiscriminantAnalysis())"
      ],
      "execution_count": null,
      "outputs": []
    },
    {
      "cell_type": "code",
      "metadata": {
        "id": "N3bI3DG6KZT5"
      },
      "source": [
        "cv_results = []\n",
        "for classifier in classifiers :\n",
        "    cv_results.append(cross_val_score(classifier, x1_train, y = y1_train, \n",
        "                                      scoring = \"f1\", cv = kfold, n_jobs=-1))"
      ],
      "execution_count": null,
      "outputs": []
    },
    {
      "cell_type": "code",
      "metadata": {
        "id": "bUrYC7gxKZeb"
      },
      "source": [
        "cv_means = []\n",
        "cv_std = []\n",
        "for cv_result in cv_results:\n",
        "    cv_means.append(cv_result.mean())\n",
        "    cv_std.append(cv_result.std())"
      ],
      "execution_count": null,
      "outputs": []
    },
    {
      "cell_type": "code",
      "metadata": {
        "id": "lAIAXZO7KZnq"
      },
      "source": [
        "cv_res = pd.DataFrame({\"CrossValMeans\":cv_means,\"CrossValerrors\": cv_std,\"Algorithm\":[\"SVC\",\"DecisionTree\",\"AdaBoost\",\n",
        "\"RandomForest\",\"ExtraTrees\",\"GradientBoosting\",\"MultipleLayerPerceptron\",\"KNeighboors\",\"LogisticRegression\",\"LinearDiscriminantAnalysis\"]})"
      ],
      "execution_count": null,
      "outputs": []
    },
    {
      "cell_type": "code",
      "metadata": {
        "colab": {
          "base_uri": "https://localhost:8080/",
          "height": 349
        },
        "id": "Q58MvWWHKZwT",
        "outputId": "eaa04f9a-9155-4436-954e-169d7a5ed33d"
      },
      "source": [
        "import seaborn as sns\n",
        "g = sns.barplot(\"CrossValMeans\",\"Algorithm\",data = cv_res, palette=\"Set3\",orient = \"h\",**{'xerr':cv_std})\n",
        "g.set_xlabel(\"Mean Accuracy\")\n",
        "g = g.set_title(\"Cross validation scores\")"
      ],
      "execution_count": null,
      "outputs": [
        {
          "output_type": "stream",
          "text": [
            "/usr/local/lib/python3.6/dist-packages/seaborn/_decorators.py:43: FutureWarning: Pass the following variables as keyword args: x, y. From version 0.12, the only valid positional argument will be `data`, and passing other arguments without an explicit keyword will result in an error or misinterpretation.\n",
            "  FutureWarning\n"
          ],
          "name": "stderr"
        },
        {
          "output_type": "display_data",
          "data": {
            "image/png": "[encoded data removed]",
            "text/plain": [
              "<Figure size 432x288 with 1 Axes>"
            ]
          },
          "metadata": {
            "tags": [],
            "needs_background": "light"
          }
        }
      ]
    },
    {
      "cell_type": "code",
      "metadata": {
        "id": "pQj6kXUMkqUj",
        "colab": {
          "base_uri": "https://localhost:8080/"
        },
        "outputId": "5b189cd0-713d-4f6f-f230-8f5a09327024"
      },
      "source": [
        "model1.score(X_test,y_test)"
      ],
      "execution_count": null,
      "outputs": [
        {
          "output_type": "execute_result",
          "data": {
            "text/plain": [
              "0.9335106382978723"
            ]
          },
          "metadata": {
            "tags": []
          },
          "execution_count": 334
        }
      ]
    },
    {
      "cell_type": "markdown",
      "source": [
        "### Applying Gradient Boost Classifier"
      ],
      "metadata": {
        "id": "Ygvh1tzoY43r"
      }
    },
    {
      "cell_type": "code",
      "metadata": {
        "id": "vAf_x9ZPkqUi"
      },
      "source": [
        "model1=GradientBoostingClassifier(n_estimators=200000,max_depth=4,learning_rate=0.01)"
      ],
      "execution_count": null,
      "outputs": []
    },
    {
      "cell_type": "code",
      "metadata": {
        "id": "RxK1zXYUkqUj",
        "colab": {
          "base_uri": "https://localhost:8080/"
        },
        "outputId": "a3cf2242-f36a-4413-d8d7-5d16713c82a9"
      },
      "source": [
        "model1.fit(X_train,y_train)"
      ],
      "execution_count": null,
      "outputs": [
        {
          "output_type": "execute_result",
          "data": {
            "text/plain": [
              "GradientBoostingClassifier(ccp_alpha=0.0, criterion='friedman_mse', init=None,\n",
              "                           learning_rate=0.01, loss='deviance', max_depth=4,\n",
              "                           max_features=None, max_leaf_nodes=None,\n",
              "                           min_impurity_decrease=0.0, min_impurity_split=None,\n",
              "                           min_samples_leaf=1, min_samples_split=2,\n",
              "                           min_weight_fraction_leaf=0.0, n_estimators=200000,\n",
              "                           n_iter_no_change=None, presort='deprecated',\n",
              "                           random_state=None, subsample=1.0, tol=0.0001,\n",
              "                           validation_fraction=0.1, verbose=0,\n",
              "                           warm_start=False)"
            ]
          },
          "metadata": {
            "tags": []
          },
          "execution_count": 333
        }
      ]
    },
    {
      "cell_type": "code",
      "metadata": {
        "id": "YnKxgee2kqUk",
        "colab": {
          "base_uri": "https://localhost:8080/"
        },
        "outputId": "c2bd2174-e7ad-4edb-aa8e-dffed23ab40f"
      },
      "source": [
        "from sklearn.model_selection import GridSearchCV\n",
        "params = {\"n_estimators\": [100,200,300,500],\n",
        "          \"max_depth\": [None],\n",
        "          \"learning_rate\": [1, 0.1, 0.01, 0.001]\n",
        "}\n",
        "model2=GradientBoostingClassifier()\n",
        "\n",
        "gsas = GridSearchCV(model2, params, cv = 5, verbose = 1,scoring=\"accuracy\", n_jobs= 4)\n",
        "gsas.fit(x1_train,y1_train)\n",
        "gsas.best_score_"
      ],
      "execution_count": null,
      "outputs": [
        {
          "output_type": "stream",
          "text": [
            "Fitting 5 folds for each of 16 candidates, totalling 80 fits\n"
          ],
          "name": "stdout"
        },
        {
          "output_type": "stream",
          "text": [
            "[Parallel(n_jobs=-1)]: Using backend LokyBackend with 2 concurrent workers.\n",
            "[Parallel(n_jobs=-1)]: Done  46 tasks      | elapsed:   13.5s\n",
            "[Parallel(n_jobs=-1)]: Done  80 out of  80 | elapsed:   58.0s finished\n"
          ],
          "name": "stderr"
        },
        {
          "output_type": "execute_result",
          "data": {
            "text/plain": [
              "0.9149178255372945"
            ]
          },
          "metadata": {
            "tags": []
          },
          "execution_count": 252
        }
      ]
    },
    {
      "cell_type": "markdown",
      "source": [
        "### Applying Extra Trees Classifier"
      ],
      "metadata": {
        "id": "drC_GQTLY_TH"
      }
    },
    {
      "cell_type": "code",
      "metadata": {
        "colab": {
          "base_uri": "https://localhost:8080/"
        },
        "id": "NZJ7KHIhLDDe",
        "outputId": "f43b2181-33a0-4764-d847-7ce8cbf780bf"
      },
      "source": [
        "ExtC = ExtraTreesClassifier()\n",
        "\n",
        "\n",
        "## Search grid for optimal parameters\n",
        "ex_param_grid = {\"max_depth\": [None],\n",
        "              \"max_features\": [1, 3, 10],\n",
        "              \"min_samples_split\": [2, 3, 10],\n",
        "              \"min_samples_leaf\": [1, 3, 10],\n",
        "              \"bootstrap\": [False],\n",
        "              \"n_estimators\" :[100,300],\n",
        "              \"criterion\": [\"gini\"]}\n",
        "\n",
        "\n",
        "gsExtC = GridSearchCV(ExtC,param_grid = ex_param_grid, cv=kfold, scoring=\"accuracy\", n_jobs= 4, verbose = 1)\n",
        "\n",
        "gsExtC.fit(x1_train,y = y1_train)\n",
        "\n",
        "ExtC_best = gsExtC.best_estimator_\n"
      ],
      "execution_count": null,
      "outputs": [
        {
          "output_type": "stream",
          "text": [
            "Fitting 5 folds for each of 54 candidates, totalling 270 fits\n"
          ],
          "name": "stdout"
        },
        {
          "output_type": "stream",
          "text": [
            "[Parallel(n_jobs=4)]: Using backend LokyBackend with 4 concurrent workers.\n",
            "[Parallel(n_jobs=4)]: Done  42 tasks      | elapsed:    9.4s\n",
            "[Parallel(n_jobs=4)]: Done 192 tasks      | elapsed:   38.1s\n",
            "[Parallel(n_jobs=4)]: Done 270 out of 270 | elapsed:   55.0s finished\n"
          ],
          "name": "stderr"
        }
      ]
    },
    {
      "cell_type": "code",
      "metadata": {
        "colab": {
          "base_uri": "https://localhost:8080/"
        },
        "id": "WN8-spCKLovv",
        "outputId": "388813c9-e067-4931-9ca1-818a5f8c5597"
      },
      "source": [
        "gsExtC.best_score_"
      ],
      "execution_count": null,
      "outputs": [
        {
          "output_type": "execute_result",
          "data": {
            "text/plain": [
              "0.9432522123893806"
            ]
          },
          "metadata": {
            "tags": []
          },
          "execution_count": 145
        }
      ]
    },
    {
      "cell_type": "markdown",
      "source": [
        "### Applying Logistic Regression"
      ],
      "metadata": {
        "id": "lRZH8nJ2ZDNp"
      }
    },
    {
      "cell_type": "code",
      "metadata": {
        "id": "zEPMrkpYNC5E",
        "colab": {
          "base_uri": "https://localhost:8080/"
        },
        "outputId": "34c4542b-8d94-4ea3-c1b2-186e823ad11b"
      },
      "source": [
        "clf = LogisticRegression()\n",
        "#model3 = clf.fit(x1_train, y1_train)\n",
        "#model3.score(x_test,y_test)\n",
        "\n",
        "clf_param_grid = {\"warm_start\": [True],\n",
        "                  \"solver\": ['saga'],\n",
        "                  ##\"l1_ratio\": [],\n",
        "                  #\"dual\": [True],\n",
        "                  \"class_weight\": ['balanced'],\n",
        "                  \"random_state\" : [False],\n",
        "                  \n",
        "     }\n",
        "\n",
        "gsclf = GridSearchCV(clf,param_grid = clf_param_grid, cv=kfold, scoring=\"accuracy\", n_jobs= -1, verbose = 1)\n",
        "gsclf.fit(x1_train,y = y1_train)\n",
        "clf_best = gsclf.best_estimator_\n",
        "gsclf.best_score_"
      ],
      "execution_count": null,
      "outputs": [
        {
          "output_type": "stream",
          "text": [
            "Fitting 5 folds for each of 1 candidates, totalling 5 fits\n"
          ],
          "name": "stdout"
        },
        {
          "output_type": "stream",
          "text": [
            "[Parallel(n_jobs=-1)]: Using backend LokyBackend with 2 concurrent workers.\n",
            "[Parallel(n_jobs=-1)]: Done   5 out of   5 | elapsed:    1.4s finished\n",
            "/usr/local/lib/python3.6/dist-packages/sklearn/linear_model/_sag.py:330: ConvergenceWarning: The max_iter was reached which means the coef_ did not converge\n",
            "  \"the coef_ did not converge\", ConvergenceWarning)\n"
          ],
          "name": "stderr"
        },
        {
          "output_type": "execute_result",
          "data": {
            "text/plain": [
              "0.9450537294563844"
            ]
          },
          "metadata": {
            "tags": []
          },
          "execution_count": 337
        }
      ]
    },
    {
      "cell_type": "markdown",
      "source": [
        "## Best Model Accuracy achieved by Logistic Regression"
      ],
      "metadata": {
        "id": "YNqz-yzcZHW3"
      }
    },
    {
      "cell_type": "code",
      "metadata": {
        "colab": {
          "base_uri": "https://localhost:8080/"
        },
        "id": "bPw77hfCjbHJ",
        "outputId": "5cd6f86b-81cf-4fe2-a59d-e5be7c10838c"
      },
      "source": [
        "#clf = LogisticRegression()\n",
        "model3 = LogisticRegression(solver='newton-cg',max_iter=100).fit(x1_train, y1_train)\n",
        "model3.score(x_test,y_test)"
      ],
      "execution_count": null,
      "outputs": [
        {
          "output_type": "execute_result",
          "data": {
            "text/plain": [
              "0.9441489361702128"
            ]
          },
          "metadata": {
            "tags": []
          },
          "execution_count": 336
        }
      ]
    },
    {
      "cell_type": "markdown",
      "source": [
        "# Predicting on New Data"
      ],
      "metadata": {
        "id": "12PDfoTRZM8b"
      }
    },
    {
      "cell_type": "code",
      "metadata": {
        "id": "6NaXx8NQkqUl"
      },
      "source": [
        "new_test_data = pd.read_csv(\"/content/drive/MyDrive/machine_learning_india_ai_challenge-dataset/TEST.csv\")"
      ],
      "execution_count": null,
      "outputs": []
    },
    {
      "cell_type": "code",
      "metadata": {
        "id": "N7vjSR5hkqUm"
      },
      "source": [
        "test_new=new_test_data.drop([\"Index\"],axis=\"columns\")\n",
        "target = model2.predict(test_new)"
      ],
      "execution_count": null,
      "outputs": []
    },
    {
      "cell_type": "code",
      "metadata": {
        "id": "HDlfIzKvkqUm"
      },
      "source": [
        "res = pd.DataFrame(target)  \n",
        "res.index = test_new.index \n",
        "res.columns = [\"prediction\"]\n",
        "res.to_csv(\"prediction_results.csv\", index = False)  "
      ],
      "execution_count": null,
      "outputs": []
    },
    {
      "cell_type": "code",
      "metadata": {
        "id": "JeBZkHswkqUn"
      },
      "source": [
        ""
      ],
      "execution_count": null,
      "outputs": []
    }
  ]
}